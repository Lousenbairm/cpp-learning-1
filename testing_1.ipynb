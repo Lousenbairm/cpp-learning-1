{
 "cells": [
  {
   "cell_type": "code",
   "execution_count": 1,
   "metadata": {},
   "outputs": [],
   "source": [
    "import pandas as pd\n",
    "import numpy as np\n",
    "import matplotlib.pyplot as plt"
   ]
  },
  {
   "cell_type": "code",
   "execution_count": 2,
   "metadata": {},
   "outputs": [
    {
     "name": "stdout",
     "output_type": "stream",
     "text": [
      "[[0, 0, 0], [0, 0, 0], [0, 0, 0]]\n"
     ]
    }
   ],
   "source": [
    "#matrix\n",
    "col = 3\n",
    "row = 3\n",
    "matrix_1 = [[0]*col]*row\n",
    "print(matrix_1)"
   ]
  },
  {
   "cell_type": "code",
   "execution_count": 30,
   "metadata": {},
   "outputs": [],
   "source": [
    "matrix_2 = [[1,2,3], [4,5,6], [7,8,9]]\n",
    "#finding the index of the element i guess\n",
    "\n",
    "def find_index(matrix, element):\n",
    "    for i, matrix_i in enumerate(matrix):\n",
    "        for j, value in enumerate(matrix_i):\n",
    "            if value == element: \n",
    "                return (i,j)\n",
    "            else:\n",
    "                return \"None\"          "
   ]
  },
  {
   "cell_type": "code",
   "execution_count": 31,
   "metadata": {},
   "outputs": [
    {
     "data": {
      "text/plain": [
       "'None'"
      ]
     },
     "execution_count": 31,
     "metadata": {},
     "output_type": "execute_result"
    }
   ],
   "source": [
    "find_index(matrix_2, 10)"
   ]
  },
  {
   "cell_type": "code",
   "execution_count": 32,
   "metadata": {},
   "outputs": [],
   "source": [
    "#Rotate matrix by 180 using pattern\n",
    "def rotate_180(matrix):\n",
    "    n = len(matrix)\n",
    "    \n",
    "    #create a auxillary matrix\n",
    "    aux = [[0]*n for i in range(n)]\n",
    "    \n",
    "    #hold the numbers temporarily with rotation\n",
    "    for i in range(n):\n",
    "        for j in range(n):\n",
    "            aux[i][j] = matrix[n-i-1][n-j-1]\n",
    "    \n",
    "    #copy the numbers back\n",
    "    for i in range(n):\n",
    "        for j in range(n):\n",
    "            matrix[i][j] = aux[i][j]\n",
    "    \n",
    "    return matrix\n",
    "\n",
    "\n"
   ]
  },
  {
   "cell_type": "code",
   "execution_count": 33,
   "metadata": {},
   "outputs": [
    {
     "name": "stdout",
     "output_type": "stream",
     "text": [
      "[[9, 8, 7], [6, 5, 4], [3, 2, 1]]\n"
     ]
    }
   ],
   "source": [
    "if __name__ == \"__main__\":\n",
    "    rotate_180(matrix_2)\n",
    "    print(matrix_2)"
   ]
  },
  {
   "cell_type": "code",
   "execution_count": null,
   "metadata": {},
   "outputs": [],
   "source": []
  }
 ],
 "metadata": {
  "kernelspec": {
   "display_name": "algo-1",
   "language": "python",
   "name": "algo-1"
  },
  "language_info": {
   "codemirror_mode": {
    "name": "ipython",
    "version": 3
   },
   "file_extension": ".py",
   "mimetype": "text/x-python",
   "name": "python",
   "nbconvert_exporter": "python",
   "pygments_lexer": "ipython3",
   "version": "3.13.0"
  }
 },
 "nbformat": 4,
 "nbformat_minor": 2
}
